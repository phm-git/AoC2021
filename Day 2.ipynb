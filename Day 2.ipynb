{
 "cells": [
  {
   "cell_type": "code",
   "execution_count": 22,
   "id": "8d07f7b4",
   "metadata": {},
   "outputs": [],
   "source": [
    "import numpy as np\n",
    "import pandas as pd"
   ]
  },
  {
   "cell_type": "code",
   "execution_count": 23,
   "id": "3007c313",
   "metadata": {},
   "outputs": [],
   "source": [
    "dfInput = pd.read_csv('input.txt', delim_whitespace = True, header = None)\n",
    "dfInput.columns = ['dir', 'dist']"
   ]
  },
  {
   "cell_type": "code",
   "execution_count": 24,
   "id": "cebb5879",
   "metadata": {},
   "outputs": [
    {
     "data": {
      "text/html": [
       "<div>\n",
       "<style scoped>\n",
       "    .dataframe tbody tr th:only-of-type {\n",
       "        vertical-align: middle;\n",
       "    }\n",
       "\n",
       "    .dataframe tbody tr th {\n",
       "        vertical-align: top;\n",
       "    }\n",
       "\n",
       "    .dataframe thead th {\n",
       "        text-align: right;\n",
       "    }\n",
       "</style>\n",
       "<table border=\"1\" class=\"dataframe\">\n",
       "  <thead>\n",
       "    <tr style=\"text-align: right;\">\n",
       "      <th></th>\n",
       "      <th>dir</th>\n",
       "      <th>dist</th>\n",
       "    </tr>\n",
       "  </thead>\n",
       "  <tbody>\n",
       "    <tr>\n",
       "      <th>0</th>\n",
       "      <td>forward</td>\n",
       "      <td>9</td>\n",
       "    </tr>\n",
       "    <tr>\n",
       "      <th>1</th>\n",
       "      <td>down</td>\n",
       "      <td>8</td>\n",
       "    </tr>\n",
       "    <tr>\n",
       "      <th>2</th>\n",
       "      <td>down</td>\n",
       "      <td>2</td>\n",
       "    </tr>\n",
       "    <tr>\n",
       "      <th>3</th>\n",
       "      <td>down</td>\n",
       "      <td>4</td>\n",
       "    </tr>\n",
       "    <tr>\n",
       "      <th>4</th>\n",
       "      <td>up</td>\n",
       "      <td>8</td>\n",
       "    </tr>\n",
       "    <tr>\n",
       "      <th>...</th>\n",
       "      <td>...</td>\n",
       "      <td>...</td>\n",
       "    </tr>\n",
       "    <tr>\n",
       "      <th>995</th>\n",
       "      <td>down</td>\n",
       "      <td>2</td>\n",
       "    </tr>\n",
       "    <tr>\n",
       "      <th>996</th>\n",
       "      <td>down</td>\n",
       "      <td>3</td>\n",
       "    </tr>\n",
       "    <tr>\n",
       "      <th>997</th>\n",
       "      <td>forward</td>\n",
       "      <td>8</td>\n",
       "    </tr>\n",
       "    <tr>\n",
       "      <th>998</th>\n",
       "      <td>down</td>\n",
       "      <td>5</td>\n",
       "    </tr>\n",
       "    <tr>\n",
       "      <th>999</th>\n",
       "      <td>forward</td>\n",
       "      <td>6</td>\n",
       "    </tr>\n",
       "  </tbody>\n",
       "</table>\n",
       "<p>1000 rows × 2 columns</p>\n",
       "</div>"
      ],
      "text/plain": [
       "         dir  dist\n",
       "0    forward     9\n",
       "1       down     8\n",
       "2       down     2\n",
       "3       down     4\n",
       "4         up     8\n",
       "..       ...   ...\n",
       "995     down     2\n",
       "996     down     3\n",
       "997  forward     8\n",
       "998     down     5\n",
       "999  forward     6\n",
       "\n",
       "[1000 rows x 2 columns]"
      ]
     },
     "execution_count": 24,
     "metadata": {},
     "output_type": "execute_result"
    }
   ],
   "source": [
    "dfInput"
   ]
  },
  {
   "cell_type": "code",
   "execution_count": 20,
   "id": "f604392a",
   "metadata": {},
   "outputs": [
    {
     "name": "stdout",
     "output_type": "stream",
     "text": [
      "1968 1063\n",
      "2091984\n"
     ]
    }
   ],
   "source": [
    "hz = 0\n",
    "dp = 0\n",
    "\n",
    "for row in dfInput.iterrows():\n",
    "    #print(row[1])\n",
    "    if row[1]['dir'] == 'forward':\n",
    "        hz += row[1]['dist']\n",
    "    elif row[1]['dir'] == 'down':\n",
    "        dp += row[1]['dist']\n",
    "    elif row[1]['dir'] == 'up':\n",
    "        dp -= row[1]['dist']\n",
    "    else:\n",
    "        exit\n",
    "        #print('hmmmmm')\n",
    "\n",
    "print(hz, dp, aim)\n",
    "print (hz*dp)"
   ]
  },
  {
   "cell_type": "code",
   "execution_count": 26,
   "id": "7ca34719",
   "metadata": {},
   "outputs": [
    {
     "name": "stdout",
     "output_type": "stream",
     "text": [
      "1968 1060092 1063\n",
      "2086261056\n"
     ]
    }
   ],
   "source": [
    "hz = 0\n",
    "dp = 0\n",
    "aim = 0\n",
    "\n",
    "for row in dfInput.iterrows():\n",
    "    if row[1]['dir'] == 'forward':\n",
    "        hz += row[1]['dist']\n",
    "        dp = dp + (aim * row[1]['dist'])\n",
    "    elif row[1]['dir'] == 'down':\n",
    "        aim += row[1]['dist']\n",
    "    elif row[1]['dir'] == 'up':\n",
    "        aim -= row[1]['dist']\n",
    "    else:\n",
    "        exit\n",
    "\n",
    "print(hz, dp, aim)\n",
    "print (hz*dp)"
   ]
  }
 ],
 "metadata": {
  "kernelspec": {
   "display_name": "Python 3 (ipykernel)",
   "language": "python",
   "name": "python3"
  },
  "language_info": {
   "codemirror_mode": {
    "name": "ipython",
    "version": 3
   },
   "file_extension": ".py",
   "mimetype": "text/x-python",
   "name": "python",
   "nbconvert_exporter": "python",
   "pygments_lexer": "ipython3",
   "version": "3.9.9"
  }
 },
 "nbformat": 4,
 "nbformat_minor": 5
}
