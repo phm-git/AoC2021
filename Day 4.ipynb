{
 "cells": [
  {
   "cell_type": "code",
   "execution_count": null,
   "id": "0d051051",
   "metadata": {},
   "outputs": [],
   "source": [
    "'''\n",
    "Advent of Code 2021 - Day 4 - Giant Squid\n",
    "==========================================\n",
    "\n",
    "Part 1 - Bingo\n",
    "==============\n",
    "\n",
    "Goals:\n",
    "1. Find the winning grid, based on the provided number stream\n",
    "2. Find the last number called that gave the winning grid\n",
    "3. Find the sum of all the unmarked numbers on the winning grid\n",
    "4. Calculate the winning grid score (2. * 3.)\n",
    "''' "
   ]
  },
  {
   "cell_type": "code",
   "execution_count": 78,
   "id": "3b9983b7",
   "metadata": {},
   "outputs": [],
   "source": [
    "import numpy as np\n",
    "import pandas as pd"
   ]
  },
  {
   "cell_type": "code",
   "execution_count": 84,
   "id": "c4730e3f",
   "metadata": {
    "scrolled": true
   },
   "outputs": [],
   "source": [
    "# Number stream is the first line in the provided data\n",
    "\n",
    "with open('input.txt', 'r') as file:\n",
    "    number_stream = file.readline()\n",
    "    number_stream = number_stream.strip().split(',')"
   ]
  },
  {
   "cell_type": "code",
   "execution_count": 85,
   "id": "f2fa7963",
   "metadata": {},
   "outputs": [],
   "source": [
    "with open('input.txt', 'r') as file:\n",
    "    full = file.readlines()\n",
    "    num_lines = len(full)"
   ]
  },
  {
   "cell_type": "code",
   "execution_count": 81,
   "id": "5c7b1559",
   "metadata": {},
   "outputs": [
    {
     "data": {
      "text/plain": [
       "[['62', '5', '77', '94', '75'],\n",
       " ['59', '10', '23', '44', '29'],\n",
       " ['93', '91', '63', '51', '74'],\n",
       " ['22', '14', '15', '2', '55'],\n",
       " ['78', '18', '95', '58', '57']]"
      ]
     },
     "metadata": {},
     "output_type": "display_data"
    },
    {
     "data": {
      "text/plain": [
       "[['1', '93', '61', '43', '39'],\n",
       " ['20', '67', '4', '58', '32'],\n",
       " ['99', '31', '72', '40', '6'],\n",
       " ['88', '19', '42', '52', '49'],\n",
       " ['35', '45', '65', '50', '91']]"
      ]
     },
     "metadata": {},
     "output_type": "display_data"
    },
    {
     "name": "stdout",
     "output_type": "stream",
     "text": [
      "100\n"
     ]
    },
    {
     "data": {
      "text/plain": [
       "[['62', '59', '93', '22', '78'],\n",
       " ['5', '10', '91', '14', '18'],\n",
       " ['77', '23', '63', '15', '95'],\n",
       " ['94', '44', '51', '2', '58'],\n",
       " ['75', '29', '74', '55', '57']]"
      ]
     },
     "metadata": {},
     "output_type": "display_data"
    }
   ],
   "source": [
    "# Grids start at line 3 in the input data, each is 5 lines long with\n",
    "# an empty line separating grids\n",
    "# Each grid can be represented as a list of lists\n",
    "# columns can be accessed by transposing the list of lists\n",
    "\n",
    "line_start = 2\n",
    "lines_to_read = 5\n",
    "grids = []\n",
    "\n",
    "while line_start < num_lines:\n",
    "    with open('input.txt', 'r') as file:\n",
    "        block = file.readlines()[line_start:line_start + lines_to_read]\n",
    "        grid = []\n",
    "        for line in block:\n",
    "            grid.append(line.strip().split())\n",
    "        line_start += 6\n",
    "        grids.append(grid)\n",
    "\n",
    "display(grids[0])  # verify first grid\n",
    "display(grids[-1]) # verify last grid\n",
    "print(len(grids))\n",
    "\n",
    "trans = [list(i) for i in zip(*grids[0])] # verify column access \n",
    "display(trans)"
   ]
  },
  {
   "cell_type": "code",
   "execution_count": 82,
   "id": "f9723b23",
   "metadata": {},
   "outputs": [
    {
     "name": "stdout",
     "output_type": "stream",
     "text": [
      "Winning grid:\n"
     ]
    },
    {
     "data": {
      "text/plain": [
       "[['35', '30', '9', '51', '34'],\n",
       " ['98', '80', '56', '62', '85'],\n",
       " ['93', '36', '18', '65', '12'],\n",
       " ['54', '32', '26', '79', '49'],\n",
       " ['5', '83', '41', '60', '89']]"
      ]
     },
     "metadata": {},
     "output_type": "display_data"
    },
    {
     "name": "stdout",
     "output_type": "stream",
     "text": [
      "Winning board score:  35670\n"
     ]
    }
   ],
   "source": [
    "end_slice = 5 \n",
    "match = []  # when a match is found, grid idx, col/row and idx are recorded\n",
    "last_num = 0\n",
    "\n",
    "while len(match) == 0: #do this while the match list is empty\n",
    "    current_numbers = number_stream[0:end_slice] \n",
    "    last_num = int(current_numbers[-1])\n",
    "    # print(current_numbers)\n",
    "    \n",
    "    # loop through the grids\n",
    "    for i in range(len(grids)):\n",
    "        \n",
    "        g = grids[i]\n",
    "        t = [list(j) for j in zip(*grids[i])]\n",
    "        \n",
    "        # check the rows and columns\n",
    "        for k in range(5):\n",
    "            \n",
    "            match_row = [val for val in g[k] if val in current_numbers]\n",
    "            #print(match_row, i, k, 'row', len(match_row))\n",
    "            \n",
    "            if len(match_row) > 4:\n",
    "                #print('match found!')\n",
    "                match = [i, k, 'row']\n",
    "                break\n",
    "                \n",
    "            match_col = [val for val in t[k] if val in current_numbers]\n",
    "            #print(match_col, i, k, 'col', len(match_col))\n",
    "            \n",
    "            if len(match_col) > 4:\n",
    "                #print('match found!')\n",
    "                match = [i, k, 'col']\n",
    "                break\n",
    "            \n",
    "            k += 1\n",
    "        if len(match) > 0:\n",
    "            break\n",
    "        else:\n",
    "            i += 1\n",
    "    \n",
    "    end_slice += 1\n",
    "\n",
    "\n",
    "print('Winning grid:')\n",
    "display(grids[match[0]])\n",
    "\n",
    "ints = [[int(i) for i in j] for j in grids[match[0]]]\n",
    "\n",
    "'''\n",
    "After several hours confusion, I realised the winning numbers\n",
    "are not the only marked numbers on the winning board :lightbulb:\n",
    "'''\n",
    "\n",
    "marked_numbers = []\n",
    "# Find all the marked numbers on the winning grid\n",
    "for row in grids[match[0]]:\n",
    "    marked_numbers.append([val for val in row if val in current_numbers])\n",
    "\n",
    "# Flatten the list of lists and cast to int, get the sum of marked numbers\n",
    "marked_numbers = [int(val) for sub in marked_numbers for val in sub]\n",
    "marked_sum = sum(marked_numbers)\n",
    "\n",
    "# Get the sum of all the number in the winnng grid\n",
    "\n",
    "grid_total = sum([sum(i) for i in ints])\n",
    "\n",
    "score = (grid_total - marked_sum) * last_num\n",
    "print('Winning board score: ', score)\n"
   ]
  },
  {
   "cell_type": "code",
   "execution_count": null,
   "id": "eb0e72c2",
   "metadata": {},
   "outputs": [],
   "source": [
    "'''\n",
    "Part 2 - Let the Squid win!\n",
    "\n",
    "Goals:\n",
    "1. Identify the grid that wins last\n",
    "2. Calculate the winning score of that board\n",
    "\n",
    "Thoughts:\n",
    "\n",
    "1. Can't just search for the last winning row or column:\n",
    "    for the grid to be the last winner, it can't already have a\n",
    "    completed row/column\n",
    "2. So... once a grid wins, add it to a list of winners and remove it \n",
    "    from the grids in play\n",
    "3. Since the grid is removed on a win, need to iterate over a copy,\n",
    "    refresh each time the number stream advances\n",
    "\n",
    "Process when a grid wins:\n",
    "\n",
    "1. Append to list of winning grids\n",
    "2. Record triggering number and end_slice position\n",
    "3. Pop grid from main list of grids\n",
    "\n",
    "Process for calculating score:\n",
    "\n",
    "1. get numbers called from last winning slice\n",
    "2. Compare that number stream to the last board in the winners list\n",
    "    to get the marked numbers\n",
    "'''"
   ]
  },
  {
   "cell_type": "code",
   "execution_count": 83,
   "id": "0ad92e98",
   "metadata": {},
   "outputs": [
    {
     "name": "stdout",
     "output_type": "stream",
     "text": [
      "Last winning board score:  22704\n"
     ]
    },
    {
     "data": {
      "text/plain": [
       "[['3', '72', '23', '55', '22'],\n",
       " ['95', '6', '48', '8', '46'],\n",
       " ['13', '5', '35', '57', '45'],\n",
       " ['33', '79', '38', '88', '36'],\n",
       " ['94', '64', '12', '14', '63']]"
      ]
     },
     "metadata": {},
     "output_type": "display_data"
    }
   ],
   "source": [
    "with open('input.txt', 'r') as file:\n",
    "    number_stream = file.readline()\n",
    "    number_stream = number_stream.strip().split(',')\n",
    "\n",
    "with open('input.txt', 'r') as file:\n",
    "    full = file.readlines()\n",
    "    num_lines = len(full)\n",
    "    \n",
    "\n",
    "line_start = 2\n",
    "lines_to_read = 5\n",
    "grids = []\n",
    "\n",
    "while line_start < num_lines:\n",
    "    with open('input.txt', 'r') as file:\n",
    "        block = file.readlines()[line_start:line_start + lines_to_read]\n",
    "        grid = []\n",
    "        for line in block:\n",
    "            grid.append(line.strip().split())\n",
    "        line_start += 6\n",
    "        grids.append(grid)\n",
    "\n",
    "end_slice = 5\n",
    "last_winning_num = 0\n",
    "last_winning_slice = 0\n",
    "winning_grids = []\n",
    "\n",
    "# the main loop needs to iterate through the entire number stream\n",
    "\n",
    "while end_slice < len(number_stream) + 1:\n",
    "    current_numbers = number_stream[0:end_slice]\n",
    "    last_num = int(current_numbers[-1])\n",
    "    iter_grid = grids.copy()\n",
    "    for grid in iter_grid:  # (rem  winners this time, iterate copy)\n",
    "            \n",
    "            for i in range(5):\n",
    "                # check rows \n",
    "                match_row = [val for val in grid[i] if val in current_numbers]\n",
    "                \n",
    "                if len(match_row) > 4:\n",
    "                    # winner\n",
    "                    winning_grids.append(grid)\n",
    "                    last_winning_num = last_num\n",
    "                    last_winning_slice = end_slice\n",
    "                    grids.remove(grid)\n",
    "                    break\n",
    "                \n",
    "                # check columns\n",
    "                # transpose grid\n",
    "                t = [list(j) for j in zip(*grid)]\n",
    "                match_col = [val for val in t[i] if val in current_numbers]\n",
    "                \n",
    "                if len(match_col) > 4:\n",
    "                    #winner\n",
    "                    winning_grids.append(grid)\n",
    "                    last_winning_num = last_num\n",
    "                    last_winning_slice = end_slice\n",
    "                    grids.remove(grid)\n",
    "                    break\n",
    "                \n",
    "                i += 1\n",
    "    \n",
    "    end_slice += 1\n",
    "            \n",
    "\n",
    "last_winning_stream = number_stream[0:last_winning_slice]\n",
    "last_winning_grid = winning_grids[-1]\n",
    "\n",
    "marked_numbers = []\n",
    "\n",
    "for row in last_winning_grid:\n",
    "    marked_numbers.append([val for val in row if val in last_winning_stream])\n",
    "\n",
    "marked_numbers = [int(val) for sub in marked_numbers for val in sub]\n",
    "marked_sum = sum(marked_numbers)\n",
    "\n",
    "ints = [[int(i) for i in j] for j in last_winning_grid]\n",
    "\n",
    "grid_total = sum([sum(i) for i in ints])\n",
    "\n",
    "score = (grid_total - marked_sum) * last_winning_num\n",
    "print('Last winning board score: ', score)\n",
    "\n",
    "display(last_winning_grid)"
   ]
  }
 ],
 "metadata": {
  "kernelspec": {
   "display_name": "Python 3 (ipykernel)",
   "language": "python",
   "name": "python3"
  },
  "language_info": {
   "codemirror_mode": {
    "name": "ipython",
    "version": 3
   },
   "file_extension": ".py",
   "mimetype": "text/x-python",
   "name": "python",
   "nbconvert_exporter": "python",
   "pygments_lexer": "ipython3",
   "version": "3.9.9"
  }
 },
 "nbformat": 4,
 "nbformat_minor": 5
}
