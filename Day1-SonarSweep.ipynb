{
 "cells": [
  {
   "cell_type": "code",
   "execution_count": 1,
   "id": "f27df71f",
   "metadata": {},
   "outputs": [],
   "source": [
    "import numpy as np"
   ]
  },
  {
   "cell_type": "code",
   "execution_count": 2,
   "id": "110741f6",
   "metadata": {},
   "outputs": [],
   "source": [
    "puzzle_input = np.loadtxt('input.txt')"
   ]
  },
  {
   "cell_type": "code",
   "execution_count": 3,
   "id": "4fd0c425",
   "metadata": {},
   "outputs": [
    {
     "name": "stdout",
     "output_type": "stream",
     "text": [
      "1711\n"
     ]
    }
   ],
   "source": [
    "count = 0\n",
    "for i in range(1, len(puzzle_input), 1):\n",
    "    if puzzle_input[i] > puzzle_input[i - 1]:\n",
    "        count += 1\n",
    "\n",
    "print(count)"
   ]
  },
  {
   "cell_type": "code",
   "execution_count": 4,
   "id": "7714da4c",
   "metadata": {},
   "outputs": [],
   "source": [
    "def rolling_avg(x, y):\n",
    "    return np.convolve(x, np.ones(y), 'valid') / y\n",
    "\n",
    "arr_rolling = rolling_avg(puzzle_input, 3)"
   ]
  },
  {
   "cell_type": "code",
   "execution_count": 7,
   "id": "985b8b74",
   "metadata": {},
   "outputs": [
    {
     "name": "stdout",
     "output_type": "stream",
     "text": [
      "1743\n"
     ]
    }
   ],
   "source": [
    "count = 0\n",
    "\n",
    "for i in range(1, len(arr_rolling), 1):\n",
    "    if arr_rolling[i] > arr_rolling[i - 1]:\n",
    "        count += 1\n",
    "print(count)"
   ]
  }
 ],
 "metadata": {
  "kernelspec": {
   "display_name": "Python 3 (ipykernel)",
   "language": "python",
   "name": "python3"
  },
  "language_info": {
   "codemirror_mode": {
    "name": "ipython",
    "version": 3
   },
   "file_extension": ".py",
   "mimetype": "text/x-python",
   "name": "python",
   "nbconvert_exporter": "python",
   "pygments_lexer": "ipython3",
   "version": "3.9.9"
  }
 },
 "nbformat": 4,
 "nbformat_minor": 5
}
